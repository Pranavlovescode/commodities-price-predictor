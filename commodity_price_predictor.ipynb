{
 "cells": [
  {
   "cell_type": "markdown",
   "metadata": {},
   "source": [
    "# **Agricultural Commodities Price Predicition**\n",
    "\n",
    "\n",
    "### This is the notebook for predicting agricultural commodities prices in India considering various states,districts and Mandies with ."
   ]
  },
  {
   "cell_type": "code",
   "execution_count": 2,
   "metadata": {},
   "outputs": [],
   "source": [
    "import numpy as np \n",
    "import matplotlib.pyplot as plt\n",
    "import pandas as pd\n",
    "import seaborn as sns\n"
   ]
  },
  {
   "cell_type": "code",
   "execution_count": 4,
   "metadata": {},
   "outputs": [
    {
     "data": {
      "text/html": [
       "<div>\n",
       "<style scoped>\n",
       "    .dataframe tbody tr th:only-of-type {\n",
       "        vertical-align: middle;\n",
       "    }\n",
       "\n",
       "    .dataframe tbody tr th {\n",
       "        vertical-align: top;\n",
       "    }\n",
       "\n",
       "    .dataframe thead th {\n",
       "        text-align: right;\n",
       "    }\n",
       "</style>\n",
       "<table border=\"1\" class=\"dataframe\">\n",
       "  <thead>\n",
       "    <tr style=\"text-align: right;\">\n",
       "      <th></th>\n",
       "      <th>commodity_name</th>\n",
       "      <th>state</th>\n",
       "      <th>district</th>\n",
       "      <th>market</th>\n",
       "      <th>min_price</th>\n",
       "      <th>max_price</th>\n",
       "      <th>modal_price</th>\n",
       "      <th>date</th>\n",
       "    </tr>\n",
       "  </thead>\n",
       "  <tbody>\n",
       "    <tr>\n",
       "      <th>0</th>\n",
       "      <td>Ajwan</td>\n",
       "      <td>Gujarat</td>\n",
       "      <td>Amreli</td>\n",
       "      <td>Amreli</td>\n",
       "      <td>63.25</td>\n",
       "      <td>79.55</td>\n",
       "      <td>79.55</td>\n",
       "      <td>2019-05-22</td>\n",
       "    </tr>\n",
       "    <tr>\n",
       "      <th>1</th>\n",
       "      <td>Ajwan</td>\n",
       "      <td>Gujarat</td>\n",
       "      <td>Banaskanth</td>\n",
       "      <td>Dhanera</td>\n",
       "      <td>80.05</td>\n",
       "      <td>80.05</td>\n",
       "      <td>80.05</td>\n",
       "      <td>2019-05-22</td>\n",
       "    </tr>\n",
       "    <tr>\n",
       "      <th>2</th>\n",
       "      <td>Ajwan</td>\n",
       "      <td>Gujarat</td>\n",
       "      <td>Jamnagar</td>\n",
       "      <td>Jamnagar</td>\n",
       "      <td>90.00</td>\n",
       "      <td>155.00</td>\n",
       "      <td>122.50</td>\n",
       "      <td>2019-05-22</td>\n",
       "    </tr>\n",
       "    <tr>\n",
       "      <th>3</th>\n",
       "      <td>Ajwan</td>\n",
       "      <td>Gujarat</td>\n",
       "      <td>Mehsana</td>\n",
       "      <td>Kadi</td>\n",
       "      <td>94.50</td>\n",
       "      <td>112.50</td>\n",
       "      <td>107.00</td>\n",
       "      <td>2019-05-22</td>\n",
       "    </tr>\n",
       "    <tr>\n",
       "      <th>4</th>\n",
       "      <td>Ajwan</td>\n",
       "      <td>Gujarat</td>\n",
       "      <td>Mehsana</td>\n",
       "      <td>Unjha</td>\n",
       "      <td>21.25</td>\n",
       "      <td>148.50</td>\n",
       "      <td>99.75</td>\n",
       "      <td>2019-05-22</td>\n",
       "    </tr>\n",
       "  </tbody>\n",
       "</table>\n",
       "</div>"
      ],
      "text/plain": [
       "  commodity_name    state    district    market  min_price  max_price  \\\n",
       "0          Ajwan  Gujarat      Amreli    Amreli      63.25      79.55   \n",
       "1          Ajwan  Gujarat  Banaskanth   Dhanera      80.05      80.05   \n",
       "2          Ajwan  Gujarat    Jamnagar  Jamnagar      90.00     155.00   \n",
       "3          Ajwan  Gujarat     Mehsana      Kadi      94.50     112.50   \n",
       "4          Ajwan  Gujarat     Mehsana     Unjha      21.25     148.50   \n",
       "\n",
       "   modal_price        date  \n",
       "0        79.55  2019-05-22  \n",
       "1        80.05  2019-05-22  \n",
       "2       122.50  2019-05-22  \n",
       "3       107.00  2019-05-22  \n",
       "4        99.75  2019-05-22  "
      ]
     },
     "execution_count": 4,
     "metadata": {},
     "output_type": "execute_result"
    }
   ],
   "source": [
    "df = pd.read_csv('agridata_csv_202110311352.csv')\n",
    "df.head()"
   ]
  },
  {
   "cell_type": "code",
   "execution_count": 21,
   "metadata": {},
   "outputs": [
    {
     "name": "stdout",
     "output_type": "stream",
     "text": [
      "<class 'pandas.core.frame.DataFrame'>\n",
      "RangeIndex: 836977 entries, 0 to 836976\n",
      "Data columns (total 8 columns):\n",
      " #   Column          Non-Null Count   Dtype  \n",
      "---  ------          --------------   -----  \n",
      " 0   commodity_name  836976 non-null  object \n",
      " 1   state           836977 non-null  object \n",
      " 2   district        836977 non-null  object \n",
      " 3   market          836977 non-null  object \n",
      " 4   min_price       836976 non-null  float64\n",
      " 5   max_price       836976 non-null  float64\n",
      " 6   modal_price     836976 non-null  float64\n",
      " 7   date            836976 non-null  object \n",
      "dtypes: float64(3), object(5)\n",
      "memory usage: 51.1+ MB\n"
     ]
    }
   ],
   "source": [
    "df.info()"
   ]
  },
  {
   "cell_type": "code",
   "execution_count": 8,
   "metadata": {},
   "outputs": [
    {
     "data": {
      "text/plain": [
       "commodity_name     object\n",
       "state              object\n",
       "district           object\n",
       "market             object\n",
       "min_price         float64\n",
       "max_price         float64\n",
       "modal_price       float64\n",
       "date               object\n",
       "dtype: object"
      ]
     },
     "execution_count": 8,
     "metadata": {},
     "output_type": "execute_result"
    }
   ],
   "source": [
    "df1 = df.copy()\n",
    "df1.dtypes"
   ]
  },
  {
   "cell_type": "code",
   "execution_count": 10,
   "metadata": {},
   "outputs": [
    {
     "data": {
      "text/plain": [
       "Index(['commodity_name', 'state', 'district', 'market', 'min_price',\n",
       "       'max_price', 'modal_price', 'date'],\n",
       "      dtype='object')"
      ]
     },
     "execution_count": 10,
     "metadata": {},
     "output_type": "execute_result"
    }
   ],
   "source": [
    "df1.columns"
   ]
  },
  {
   "cell_type": "code",
   "execution_count": 20,
   "metadata": {},
   "outputs": [
    {
     "data": {
      "text/plain": [
       "array(['Ajwan', 'Alasande+Gram', 'Amaranthus', 'Amla(Nelli+Kai)',\n",
       "       'Amphophalus', 'Antawala', 'Apple', 'Arhar+Dal(Tur+Dal)',\n",
       "       'Ashgourd', 'Avare+Dal', 'Banana', 'Banana+-+Green',\n",
       "       'Barley+(Jau)', 'Beans', 'Beaten+Rice', 'Beetroot', 'Betal+Leaves',\n",
       "       'Bitter+gourd', 'Black+pepper', 'Bottle+gourd', 'Brinjal',\n",
       "       'Broken+Rice', 'Cabbage', 'Capsicum', 'Cardamoms', 'Carrot',\n",
       "       'Cashewnuts', 'Castor+Seed', 'Cauliflower', 'Coconut',\n",
       "       'Chapparad+Avare', 'Chennangi+Dal', 'Chikoos(Sapota)', 'Chili+Red',\n",
       "       'Chilly+Capsicum', 'Cloves', 'Cluster+beans', 'Cocoa',\n",
       "       'Coconut+Oil', 'Coconut+Seed', 'Coffee', 'Colacasia', 'Copra',\n",
       "       'Coriander(Leaves)', 'Corriander+seed', 'Cowpea(Veg)', 'Cotton',\n",
       "       'Cucumbar(Kheera)', 'Cummin+Seed(Jeera)', 'Drumstick',\n",
       "       'Dry+Chillies', 'Dry+Fodder', 'Dry+Grapes', 'Duster+Beans', 'Egg',\n",
       "       'Elephant+Yam+(Suran)', 'Field+Pea', 'Firewood', 'Fish', 'Garlic',\n",
       "       'Ghee', 'Gingelly+Oil', 'Ginger(Dry)', 'Ginger(Green)', 'Grapes',\n",
       "       'Green+Avare+(W)', 'Green+Chilli', 'Green+Fodder', 'Green+Peas',\n",
       "       'Ground+Nut+Seed', 'Groundnut', 'Groundnut+(Split)',\n",
       "       'Groundnut+pods+(raw)', 'Guar', 'Guava', 'Gur(Jaggery)', 'Hen',\n",
       "       'Hybrid+Cumbu', 'Indian+Beans+(Seam)', 'Isabgul+(Psyllium)',\n",
       "       'Jack+Fruit', 'Jamun(Narale+Hannu)', 'Jowar(Sorghum)', 'Jute',\n",
       "       'Karbuja(Musk+Melon)', 'Knool+Khol', 'Kulthi(Horse+Gram)',\n",
       "       'Lak(Teora)', 'Leafy+Vegetable', 'Lemon', 'Lime', 'Linseed',\n",
       "       'Litchi', 'Long+Melon(Kakri)', 'Mahua', 'Maida+Atta', 'Maize',\n",
       "       'Mango', 'Mango+(Raw-Ripe)', 'Mashrooms', 'Masur+Dal',\n",
       "       'Methi+Seeds', 'Methi(Leaves)', 'Millets', 'Mint(Pudina)',\n",
       "       'Moath+Dal', 'Mousambi(Sweet+Lime)', 'Mustard', 'Mustard+Oil',\n",
       "       'Myrobolan(Harad)', 'Nutmeg', 'Onion', 'Onion+Green', 'Orange',\n",
       "       'Paddy(Dhan)(Basmati)', 'Paddy(Dhan)(Common)', 'Papaya',\n",
       "       'Papaya+(Raw)', 'Peach', 'Peas+cod', 'Peas+Wet', 'Peas(Dry)',\n",
       "       'Pepper+garbled', 'Pepper+ungarbled', 'Pineapple', 'Plum',\n",
       "       'Pomegranate', 'Potato', 'Pumpkin', 'Raddish',\n",
       "       'Ragi+(Finger+Millet)', 'Rajgir', 'Rice', 'Ridgeguard(Tori)',\n",
       "       'Round+gourd', 'Rubber', 'Safflower', 'Snakeguard', 'Soanf',\n",
       "       'Soyabean', 'Spinach', 'Sponge+gourd', 'Sugar', 'Sunflower',\n",
       "       'Surat+Beans+(Papadi)', 'Suva+(Dill+Seed)', 'Suvarna+Gadde',\n",
       "       'Sweet+Potato', 'Sweet+Pumpkin', 'T.V.+Cumbu', 'Tamarind+Fruit',\n",
       "       'Tapioca', 'Taramira', 'Tender+Coconut', 'Tinda', 'Tobacco',\n",
       "       'Tomato', 'Toria', 'Turmeric', 'Turmeric+(raw)', 'Turnip',\n",
       "       'Water+Melon', 'Wheat', 'Wheat+Atta', 'White+Peas',\n",
       "       'White+Pumpkin', 'Wood', 'Yam+(Ratalu)', 'Bamboo', 'Yam',\n",
       "       'Kodo+Millet(Varagu)', 'Goat', 'Pear(Marasebu)', 'Balekai',\n",
       "       'Gram+Raw(Chholia)', 'Cow', 'Same/Savi', 'Sugarcane',\n",
       "       'She+Buffalo', 'Sheep', 'Soji', 'Chow+Chow', 'Pigs', 'Calf',\n",
       "       'Duck', 'Ox', 'Dhaincha', 'Season+Leaves', 'Cock', 'Hippe+Seed',\n",
       "       'Tamarind+Seed', 'Other+Pulses', 'Coca', 'Niger+Seed+(Ramtil)',\n",
       "       'Ram', 'Thondekai', 'Galgal(Lemon)', 'Honge+seed', 'Lotus+Sticks',\n",
       "       'Neem+Seed', 'Bran', 'Cherry', 'Mace', 'Kartali+(Kantola)',\n",
       "       'She+Goat', 'Alsandikai', 'Mahedi', 'Bull', 'Thogrikai', 'Khoya',\n",
       "       'Seetapal', 'Almond(Badam)', 'Butter', 'Rose(Loose)', 'Kinnow',\n",
       "       'He+Buffalo', 'Marigold(loose)', 'Mataki', 'Sajje',\n",
       "       'Marigold(Calcutta)', 'Ambada+Seed', 'Chrysanthemum(Loose)',\n",
       "       'Cotton+Seed', 'Seemebadnekai', 'Gramflour',\n",
       "       'Persimon(Japani+Fal)', 'Lint', 'Indian+Colza(Sarson)', 'Sabu+Dan',\n",
       "       'Jasmine', 'Gurellu', 'Walnut', 'Bunch+Beans', 'Snake+gourd',\n",
       "       'Ridge+gourd(Tori)', 'Dalda', 'Sabu+Dana', 'Tube+Rose(Loose)',\n",
       "       'Rose(Local)', 'Seetafal', 'Siddota', 'Lukad', 'Sunhemp',\n",
       "       'Alasande Gram', 'Amla(Nelli Kai)', 'Anthorium',\n",
       "       'Arecanut(Betelnut/Supari)', 'Arhar (Tur/Red Gram)(Whole)'],\n",
       "      dtype=object)"
      ]
     },
     "execution_count": 20,
     "metadata": {},
     "output_type": "execute_result"
    }
   ],
   "source": [
    "df1['commodity_name'].unique()"
   ]
  },
  {
   "cell_type": "code",
   "execution_count": 9,
   "metadata": {},
   "outputs": [
    {
     "data": {
      "text/plain": [
       "commodity_name    1\n",
       "state             0\n",
       "district          0\n",
       "market            0\n",
       "min_price         1\n",
       "max_price         1\n",
       "modal_price       1\n",
       "date              1\n",
       "dtype: int64"
      ]
     },
     "execution_count": 9,
     "metadata": {},
     "output_type": "execute_result"
    }
   ],
   "source": [
    "df1.isnull().sum()"
   ]
  },
  {
   "cell_type": "markdown",
   "metadata": {},
   "source": [
    "#### Droped the rows with null values in the dataset."
   ]
  },
  {
   "cell_type": "code",
   "execution_count": 16,
   "metadata": {},
   "outputs": [
    {
     "data": {
      "text/plain": [
       "commodity_name    0\n",
       "state             0\n",
       "district          0\n",
       "market            0\n",
       "min_price         0\n",
       "max_price         0\n",
       "modal_price       0\n",
       "date              0\n",
       "dtype: int64"
      ]
     },
     "execution_count": 16,
     "metadata": {},
     "output_type": "execute_result"
    }
   ],
   "source": [
    "df1.dropna(inplace=True)\n",
    "df1.isnull().sum()"
   ]
  },
  {
   "cell_type": "code",
   "execution_count": 22,
   "metadata": {},
   "outputs": [
    {
     "data": {
      "text/html": [
       "<div>\n",
       "<style scoped>\n",
       "    .dataframe tbody tr th:only-of-type {\n",
       "        vertical-align: middle;\n",
       "    }\n",
       "\n",
       "    .dataframe tbody tr th {\n",
       "        vertical-align: top;\n",
       "    }\n",
       "\n",
       "    .dataframe thead th {\n",
       "        text-align: right;\n",
       "    }\n",
       "</style>\n",
       "<table border=\"1\" class=\"dataframe\">\n",
       "  <thead>\n",
       "    <tr style=\"text-align: right;\">\n",
       "      <th></th>\n",
       "      <th>min_price</th>\n",
       "      <th>max_price</th>\n",
       "      <th>modal_price</th>\n",
       "    </tr>\n",
       "  </thead>\n",
       "  <tbody>\n",
       "    <tr>\n",
       "      <th>count</th>\n",
       "      <td>836975.000000</td>\n",
       "      <td>836975.000000</td>\n",
       "      <td>836975.000000</td>\n",
       "    </tr>\n",
       "    <tr>\n",
       "      <th>mean</th>\n",
       "      <td>138.438275</td>\n",
       "      <td>158.557311</td>\n",
       "      <td>117.531131</td>\n",
       "    </tr>\n",
       "    <tr>\n",
       "      <th>std</th>\n",
       "      <td>1622.378214</td>\n",
       "      <td>1710.394446</td>\n",
       "      <td>1230.076670</td>\n",
       "    </tr>\n",
       "    <tr>\n",
       "      <th>min</th>\n",
       "      <td>0.000000</td>\n",
       "      <td>0.000000</td>\n",
       "      <td>0.000000</td>\n",
       "    </tr>\n",
       "    <tr>\n",
       "      <th>25%</th>\n",
       "      <td>12.000000</td>\n",
       "      <td>15.500000</td>\n",
       "      <td>14.100000</td>\n",
       "    </tr>\n",
       "    <tr>\n",
       "      <th>50%</th>\n",
       "      <td>20.000000</td>\n",
       "      <td>25.000000</td>\n",
       "      <td>22.650000</td>\n",
       "    </tr>\n",
       "    <tr>\n",
       "      <th>75%</th>\n",
       "      <td>37.500000</td>\n",
       "      <td>45.000000</td>\n",
       "      <td>41.000000</td>\n",
       "    </tr>\n",
       "    <tr>\n",
       "      <th>max</th>\n",
       "      <td>80200.000000</td>\n",
       "      <td>74240.000000</td>\n",
       "      <td>66000.000000</td>\n",
       "    </tr>\n",
       "  </tbody>\n",
       "</table>\n",
       "</div>"
      ],
      "text/plain": [
       "           min_price      max_price    modal_price\n",
       "count  836975.000000  836975.000000  836975.000000\n",
       "mean      138.438275     158.557311     117.531131\n",
       "std      1622.378214    1710.394446    1230.076670\n",
       "min         0.000000       0.000000       0.000000\n",
       "25%        12.000000      15.500000      14.100000\n",
       "50%        20.000000      25.000000      22.650000\n",
       "75%        37.500000      45.000000      41.000000\n",
       "max     80200.000000   74240.000000   66000.000000"
      ]
     },
     "execution_count": 22,
     "metadata": {},
     "output_type": "execute_result"
    }
   ],
   "source": [
    "df1.describe()"
   ]
  },
  {
   "cell_type": "code",
   "execution_count": 24,
   "metadata": {},
   "outputs": [
    {
     "data": {
      "text/plain": [
       "836967    06 Oct 2021\n",
       "836968    06 Oct 2021\n",
       "836969    06 Oct 2021\n",
       "836970    06 Oct 2021\n",
       "836971    06 Oct 2021\n",
       "836972    06 Oct 2021\n",
       "836973    06 Oct 2021\n",
       "836974    06 Oct 2021\n",
       "836975    06 Oct 2021\n",
       "836976    06 Oct 2021\n",
       "Name: date, dtype: object"
      ]
     },
     "execution_count": 24,
     "metadata": {},
     "output_type": "execute_result"
    }
   ],
   "source": [
    "df1['date'].head(10) # date is in object format\n",
    "df1['date'].tail(10) # date is in object format"
   ]
  },
  {
   "cell_type": "markdown",
   "metadata": {},
   "source": [
    "### Converting the object form of date to datetime format."
   ]
  },
  {
   "cell_type": "code",
   "execution_count": 33,
   "metadata": {},
   "outputs": [
    {
     "data": {
      "text/plain": [
       "0    2019-05-22\n",
       "1    2019-05-22\n",
       "2    2019-05-22\n",
       "3    2019-05-22\n",
       "4    2019-05-22\n",
       "5    2019-05-22\n",
       "6    2019-05-22\n",
       "7    2019-05-22\n",
       "8    2019-05-22\n",
       "9    2019-05-22\n",
       "Name: date, dtype: object"
      ]
     },
     "execution_count": 33,
     "metadata": {},
     "output_type": "execute_result"
    }
   ],
   "source": [
    "from dateutil import parser\n",
    "def dateParser(date):\n",
    "    try:\n",
    "        date_formate = parser.parse(date)\n",
    "        return date_formate.strftime('%Y-%m-%d')\n",
    "    except:\n",
    "        return None\n",
    "\n",
    "df1['date'] = df1['date'].apply(dateParser)\n",
    "df1['date'].head(10) # date is in datetime format"
   ]
  },
  {
   "cell_type": "code",
   "execution_count": 32,
   "metadata": {},
   "outputs": [
    {
     "data": {
      "text/plain": [
       "0   2019-05-22\n",
       "1   2019-05-22\n",
       "2   2019-05-22\n",
       "3   2019-05-22\n",
       "4   2019-05-22\n",
       "5   2019-05-22\n",
       "6   2019-05-22\n",
       "7   2019-05-22\n",
       "8   2019-05-22\n",
       "9   2019-05-22\n",
       "Name: date, dtype: datetime64[ns]"
      ]
     },
     "execution_count": 32,
     "metadata": {},
     "output_type": "execute_result"
    }
   ],
   "source": [
    "df2 = df1.copy()\n",
    "df2['date'] = pd.to_datetime(df2['date'],format='%Y-%m-%d')\n",
    "df2['date'].head(10) # date is in datetime format"
   ]
  },
  {
   "cell_type": "code",
   "execution_count": 34,
   "metadata": {},
   "outputs": [
    {
     "name": "stdout",
     "output_type": "stream",
     "text": [
      "<class 'pandas.core.frame.DataFrame'>\n",
      "Index: 836975 entries, 0 to 836976\n",
      "Data columns (total 8 columns):\n",
      " #   Column          Non-Null Count   Dtype         \n",
      "---  ------          --------------   -----         \n",
      " 0   commodity_name  836975 non-null  object        \n",
      " 1   state           836975 non-null  object        \n",
      " 2   district        836975 non-null  object        \n",
      " 3   market          836975 non-null  object        \n",
      " 4   min_price       836975 non-null  float64       \n",
      " 5   max_price       836975 non-null  float64       \n",
      " 6   modal_price     836975 non-null  float64       \n",
      " 7   date            836975 non-null  datetime64[ns]\n",
      "dtypes: datetime64[ns](1), float64(3), object(4)\n",
      "memory usage: 57.5+ MB\n"
     ]
    }
   ],
   "source": [
    "df2.info()"
   ]
  },
  {
   "cell_type": "markdown",
   "metadata": {},
   "source": [
    "#### Now the dates are in datetime format."
   ]
  }
 ],
 "metadata": {
  "kernelspec": {
   "display_name": "Python 3",
   "language": "python",
   "name": "python3"
  },
  "language_info": {
   "codemirror_mode": {
    "name": "ipython",
    "version": 3
   },
   "file_extension": ".py",
   "mimetype": "text/x-python",
   "name": "python",
   "nbconvert_exporter": "python",
   "pygments_lexer": "ipython3",
   "version": "3.12.3"
  }
 },
 "nbformat": 4,
 "nbformat_minor": 2
}
